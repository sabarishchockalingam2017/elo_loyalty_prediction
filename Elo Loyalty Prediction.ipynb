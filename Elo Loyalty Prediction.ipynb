{
 "cells": [
  {
   "cell_type": "markdown",
   "metadata": {},
   "source": [
    "# Elo Loyalty Prediction"
   ]
  },
  {
   "cell_type": "code",
   "execution_count": 2,
   "metadata": {
    "_kg_hide-input": true,
    "_kg_hide-output": true,
    "execution": {
     "iopub.execute_input": "2021-02-25T14:59:36.903254Z",
     "iopub.status.busy": "2021-02-25T14:59:36.902294Z",
     "iopub.status.idle": "2021-02-25T14:59:36.907454Z",
     "shell.execute_reply": "2021-02-25T14:59:36.907915Z"
    },
    "papermill": {
     "duration": 0.021927,
     "end_time": "2021-02-25T14:59:36.908260",
     "exception": false,
     "start_time": "2021-02-25T14:59:36.886333",
     "status": "completed"
    },
    "tags": []
   },
   "outputs": [],
   "source": [
    "import numpy as np\n",
    "import pandas as pd\n",
    "import matplotlib.pyplot as plt"
   ]
  },
  {
   "cell_type": "markdown",
   "metadata": {},
   "source": [
    "## Contents\n",
    "- [Introduction](#introduction)\n",
    "    * [Problem Statement](#problem-statement)\n",
    "- [Exploratory Data Analysis](#eda)\n",
    "- [Feature Engineering](#feature-engineering)\n",
    "- [Model Building](#model-building)\n",
    "    * [Linear Regression](#linear-regression)\n",
    "    * [Gradient Bososted Tree](#gradient-boosted-trees)\n",
    "- [Model Analysis](#model-analysis)\n",
    "- [Conclusion](#conclusion)\n",
    "\n"
   ]
  },
  {
   "cell_type": "markdown",
   "metadata": {
    "papermill": {
     "duration": 0.011083,
     "end_time": "2021-02-25T14:59:36.951739",
     "exception": false,
     "start_time": "2021-02-25T14:59:36.940656",
     "status": "completed"
    },
    "tags": []
   },
   "source": [
    "## Introduction<a class=\"anchor\" id=\"introduction\"></a>"
   ]
  },
  {
   "cell_type": "markdown",
   "metadata": {
    "papermill": {
     "duration": 0.010388,
     "end_time": "2021-02-25T14:59:36.972967",
     "exception": false,
     "start_time": "2021-02-25T14:59:36.962579",
     "status": "completed"
    },
    "tags": []
   },
   "source": [
    "\n",
    "Elo, one of Brazil's largest payment brands, is partnered with many merchants to offer promotions and discounts to their cardholders. Elo aimed to reduce marketting that is irrelevant to members and offer them custom-tailored promotions, thereby providing an enjoyable experience and beneficial service. To that end, Elo launched a Kaggle competition, enlisting the Kaggle community's help, to produce a machine learning model that can find signal between trasaction data and loyalty. Such a model will help Elo gauge customer loyalty and how promotional strategies affect it.\n",
    "\n",
    "**The data provided is simulated and fictitious. It does not contain real customer data.*\n"
   ]
  },
  {
   "cell_type": "markdown",
   "metadata": {
    "papermill": {
     "duration": 0.010556,
     "end_time": "2021-02-25T14:59:36.994344",
     "exception": false,
     "start_time": "2021-02-25T14:59:36.983788",
     "status": "completed"
    },
    "tags": []
   },
   "source": [
    "### Problem Statement<a class=\"anchor\" id=\"problem-statement\"></a>\n",
    "Build a machine learning model that can effectively predict customer loyalty scores using trasaction data."
   ]
  },
  {
   "cell_type": "markdown",
   "metadata": {},
   "source": [
    "## Exploratory Data Analysis <a class=\"anchor\" id=\"eda\"></a>"
   ]
  },
  {
   "cell_type": "markdown",
   "metadata": {},
   "source": [
    "The data contained five main tables consisting **train data**, **test data**, **historical transactions**, **new merchant transactions** and **merchants**.\n",
    "\n",
    "**train data** table contained card_ids, loyalty scores and 3 arbitrary features provided by ELO. The aribtrary features were not very useful as they did not provide much signal in predicting loyalty scores.\n",
    "\n",
    "**test data** table contained the same arbitrary features as **train data** and card_id but did not contain loyalty scores.\n",
    "\n",
    "**historical transactions** contained details on purchases made by all the cardholders in the dataset. Details included purchase amount, merchant category, etc. Every card_id had atleaset 3 months of records.\n",
    "\n",
    "**new merchant transactions** contained transaction data from new merchants the cardholder had not yet purchased from in the historical transaction data. Every card_id had upto two months of new merchant data after a reference date (which differed for each card_id).\n",
    "\n",
    "**merchants** contained details on merchants seen in **historical transactions** and **new merchant transactions**\n",
    "\n",
    "\n",
    "The data was heavily anonymized. Non-numerical data such as city of purchase and merchant category were reassigned with arbitrary value so it is difficult to connect real world knowledge and find insights.\n",
    "\n",
    "\n",
    "\n"
   ]
  },
  {
   "cell_type": "code",
   "execution_count": 3,
   "metadata": {
    "_kg_hide-input": true,
    "_kg_hide-output": true
   },
   "outputs": [],
   "source": [
    "# load data\n",
    "\n",
    "# train data\n",
    "traindf = pd.read_csv('./data/train.csv')\n",
    "\n",
    "# given test data with no loyaltly score\n",
    "giventestdf = pd.read_csv('./data/test.csv')\n",
    "giventestdf['card_id'].nunique()\n",
    "\n",
    "# historical transaction data\n",
    "histtransdf = pd.read_csv('./data/historical_transactions.csv')\n",
    "\n",
    "# new merchant transactional data\n",
    "newtransdf = pd.read_csv('./data/new_merchant_transactions.csv')\n",
    "\n",
    "# merchant data\n",
    "merchdf = pd.read_csv('./data/merchants.csv')"
   ]
  },
  {
   "cell_type": "code",
   "execution_count": 4,
   "metadata": {
    "_kg_hide-input": true,
    "_kg_hide-output": true,
    "collapsed": true
   },
   "outputs": [
    {
     "data": {
      "text/html": [
       "<div>\n",
       "<style scoped>\n",
       "    .dataframe tbody tr th:only-of-type {\n",
       "        vertical-align: middle;\n",
       "    }\n",
       "\n",
       "    .dataframe tbody tr th {\n",
       "        vertical-align: top;\n",
       "    }\n",
       "\n",
       "    .dataframe thead th {\n",
       "        text-align: right;\n",
       "    }\n",
       "</style>\n",
       "<table border=\"1\" class=\"dataframe\">\n",
       "  <thead>\n",
       "    <tr style=\"text-align: right;\">\n",
       "      <th></th>\n",
       "      <th>first_active_month</th>\n",
       "      <th>card_id</th>\n",
       "      <th>feature_1</th>\n",
       "      <th>feature_2</th>\n",
       "      <th>feature_3</th>\n",
       "      <th>target</th>\n",
       "    </tr>\n",
       "  </thead>\n",
       "  <tbody>\n",
       "    <tr>\n",
       "      <th>0</th>\n",
       "      <td>2017-06</td>\n",
       "      <td>C_ID_92a2005557</td>\n",
       "      <td>5</td>\n",
       "      <td>2</td>\n",
       "      <td>1</td>\n",
       "      <td>-0.820283</td>\n",
       "    </tr>\n",
       "    <tr>\n",
       "      <th>1</th>\n",
       "      <td>2017-01</td>\n",
       "      <td>C_ID_3d0044924f</td>\n",
       "      <td>4</td>\n",
       "      <td>1</td>\n",
       "      <td>0</td>\n",
       "      <td>0.392913</td>\n",
       "    </tr>\n",
       "    <tr>\n",
       "      <th>2</th>\n",
       "      <td>2016-08</td>\n",
       "      <td>C_ID_d639edf6cd</td>\n",
       "      <td>2</td>\n",
       "      <td>2</td>\n",
       "      <td>0</td>\n",
       "      <td>0.688056</td>\n",
       "    </tr>\n",
       "    <tr>\n",
       "      <th>3</th>\n",
       "      <td>2017-09</td>\n",
       "      <td>C_ID_186d6a6901</td>\n",
       "      <td>4</td>\n",
       "      <td>3</td>\n",
       "      <td>0</td>\n",
       "      <td>0.142495</td>\n",
       "    </tr>\n",
       "    <tr>\n",
       "      <th>4</th>\n",
       "      <td>2017-11</td>\n",
       "      <td>C_ID_cdbd2c0db2</td>\n",
       "      <td>1</td>\n",
       "      <td>3</td>\n",
       "      <td>0</td>\n",
       "      <td>-0.159749</td>\n",
       "    </tr>\n",
       "  </tbody>\n",
       "</table>\n",
       "</div>"
      ],
      "text/plain": [
       "  first_active_month          card_id  feature_1  feature_2  feature_3  \\\n",
       "0            2017-06  C_ID_92a2005557          5          2          1   \n",
       "1            2017-01  C_ID_3d0044924f          4          1          0   \n",
       "2            2016-08  C_ID_d639edf6cd          2          2          0   \n",
       "3            2017-09  C_ID_186d6a6901          4          3          0   \n",
       "4            2017-11  C_ID_cdbd2c0db2          1          3          0   \n",
       "\n",
       "     target  \n",
       "0 -0.820283  \n",
       "1  0.392913  \n",
       "2  0.688056  \n",
       "3  0.142495  \n",
       "4 -0.159749  "
      ]
     },
     "execution_count": 4,
     "metadata": {},
     "output_type": "execute_result"
    }
   ],
   "source": [
    "# training dataset at glance\n",
    "traindf.head()"
   ]
  },
  {
   "cell_type": "code",
   "execution_count": 5,
   "metadata": {
    "_kg_hide-input": true,
    "_kg_hide-output": true,
    "collapsed": true
   },
   "outputs": [
    {
     "data": {
      "text/plain": [
       "201917"
      ]
     },
     "execution_count": 5,
     "metadata": {},
     "output_type": "execute_result"
    }
   ],
   "source": [
    "traindf.card_id.nunique()"
   ]
  },
  {
   "cell_type": "code",
   "execution_count": 6,
   "metadata": {
    "_kg_hide-input": true,
    "_kg_hide-output": true,
    "collapsed": true
   },
   "outputs": [
    {
     "data": {
      "text/html": [
       "<div>\n",
       "<style scoped>\n",
       "    .dataframe tbody tr th:only-of-type {\n",
       "        vertical-align: middle;\n",
       "    }\n",
       "\n",
       "    .dataframe tbody tr th {\n",
       "        vertical-align: top;\n",
       "    }\n",
       "\n",
       "    .dataframe thead th {\n",
       "        text-align: right;\n",
       "    }\n",
       "</style>\n",
       "<table border=\"1\" class=\"dataframe\">\n",
       "  <thead>\n",
       "    <tr style=\"text-align: right;\">\n",
       "      <th></th>\n",
       "      <th>authorized_flag</th>\n",
       "      <th>card_id</th>\n",
       "      <th>city_id</th>\n",
       "      <th>category_1</th>\n",
       "      <th>installments</th>\n",
       "      <th>category_3</th>\n",
       "      <th>merchant_category_id</th>\n",
       "      <th>merchant_id</th>\n",
       "      <th>month_lag</th>\n",
       "      <th>purchase_amount</th>\n",
       "      <th>purchase_date</th>\n",
       "      <th>category_2</th>\n",
       "      <th>state_id</th>\n",
       "      <th>subsector_id</th>\n",
       "    </tr>\n",
       "  </thead>\n",
       "  <tbody>\n",
       "    <tr>\n",
       "      <th>0</th>\n",
       "      <td>Y</td>\n",
       "      <td>C_ID_4e6213e9bc</td>\n",
       "      <td>88</td>\n",
       "      <td>N</td>\n",
       "      <td>0</td>\n",
       "      <td>A</td>\n",
       "      <td>80</td>\n",
       "      <td>M_ID_e020e9b302</td>\n",
       "      <td>-8</td>\n",
       "      <td>-0.703331</td>\n",
       "      <td>2017-06-25 15:33:07</td>\n",
       "      <td>1.0</td>\n",
       "      <td>16</td>\n",
       "      <td>37</td>\n",
       "    </tr>\n",
       "    <tr>\n",
       "      <th>1</th>\n",
       "      <td>Y</td>\n",
       "      <td>C_ID_4e6213e9bc</td>\n",
       "      <td>88</td>\n",
       "      <td>N</td>\n",
       "      <td>0</td>\n",
       "      <td>A</td>\n",
       "      <td>367</td>\n",
       "      <td>M_ID_86ec983688</td>\n",
       "      <td>-7</td>\n",
       "      <td>-0.733128</td>\n",
       "      <td>2017-07-15 12:10:45</td>\n",
       "      <td>1.0</td>\n",
       "      <td>16</td>\n",
       "      <td>16</td>\n",
       "    </tr>\n",
       "    <tr>\n",
       "      <th>2</th>\n",
       "      <td>Y</td>\n",
       "      <td>C_ID_4e6213e9bc</td>\n",
       "      <td>88</td>\n",
       "      <td>N</td>\n",
       "      <td>0</td>\n",
       "      <td>A</td>\n",
       "      <td>80</td>\n",
       "      <td>M_ID_979ed661fc</td>\n",
       "      <td>-6</td>\n",
       "      <td>-0.720386</td>\n",
       "      <td>2017-08-09 22:04:29</td>\n",
       "      <td>1.0</td>\n",
       "      <td>16</td>\n",
       "      <td>37</td>\n",
       "    </tr>\n",
       "    <tr>\n",
       "      <th>3</th>\n",
       "      <td>Y</td>\n",
       "      <td>C_ID_4e6213e9bc</td>\n",
       "      <td>88</td>\n",
       "      <td>N</td>\n",
       "      <td>0</td>\n",
       "      <td>A</td>\n",
       "      <td>560</td>\n",
       "      <td>M_ID_e6d5ae8ea6</td>\n",
       "      <td>-5</td>\n",
       "      <td>-0.735352</td>\n",
       "      <td>2017-09-02 10:06:26</td>\n",
       "      <td>1.0</td>\n",
       "      <td>16</td>\n",
       "      <td>34</td>\n",
       "    </tr>\n",
       "    <tr>\n",
       "      <th>4</th>\n",
       "      <td>Y</td>\n",
       "      <td>C_ID_4e6213e9bc</td>\n",
       "      <td>88</td>\n",
       "      <td>N</td>\n",
       "      <td>0</td>\n",
       "      <td>A</td>\n",
       "      <td>80</td>\n",
       "      <td>M_ID_e020e9b302</td>\n",
       "      <td>-11</td>\n",
       "      <td>-0.722865</td>\n",
       "      <td>2017-03-10 01:14:19</td>\n",
       "      <td>1.0</td>\n",
       "      <td>16</td>\n",
       "      <td>37</td>\n",
       "    </tr>\n",
       "  </tbody>\n",
       "</table>\n",
       "</div>"
      ],
      "text/plain": [
       "  authorized_flag          card_id  city_id category_1  installments  \\\n",
       "0               Y  C_ID_4e6213e9bc       88          N             0   \n",
       "1               Y  C_ID_4e6213e9bc       88          N             0   \n",
       "2               Y  C_ID_4e6213e9bc       88          N             0   \n",
       "3               Y  C_ID_4e6213e9bc       88          N             0   \n",
       "4               Y  C_ID_4e6213e9bc       88          N             0   \n",
       "\n",
       "  category_3  merchant_category_id      merchant_id  month_lag  \\\n",
       "0          A                    80  M_ID_e020e9b302         -8   \n",
       "1          A                   367  M_ID_86ec983688         -7   \n",
       "2          A                    80  M_ID_979ed661fc         -6   \n",
       "3          A                   560  M_ID_e6d5ae8ea6         -5   \n",
       "4          A                    80  M_ID_e020e9b302        -11   \n",
       "\n",
       "   purchase_amount        purchase_date  category_2  state_id  subsector_id  \n",
       "0        -0.703331  2017-06-25 15:33:07         1.0        16            37  \n",
       "1        -0.733128  2017-07-15 12:10:45         1.0        16            16  \n",
       "2        -0.720386  2017-08-09 22:04:29         1.0        16            37  \n",
       "3        -0.735352  2017-09-02 10:06:26         1.0        16            34  \n",
       "4        -0.722865  2017-03-10 01:14:19         1.0        16            37  "
      ]
     },
     "execution_count": 6,
     "metadata": {},
     "output_type": "execute_result"
    }
   ],
   "source": [
    "histtransdf.head()"
   ]
  },
  {
   "cell_type": "code",
   "execution_count": 7,
   "metadata": {
    "_kg_hide-input": true,
    "_kg_hide-output": true,
    "collapsed": true
   },
   "outputs": [
    {
     "data": {
      "text/plain": [
       "325540"
      ]
     },
     "execution_count": 7,
     "metadata": {},
     "output_type": "execute_result"
    }
   ],
   "source": [
    "histtransdf['card_id'].nunique()"
   ]
  },
  {
   "cell_type": "code",
   "execution_count": 8,
   "metadata": {
    "_kg_hide-input": true,
    "_kg_hide-output": true,
    "collapsed": true
   },
   "outputs": [
    {
     "data": {
      "text/plain": [
       "(29112361, 14)"
      ]
     },
     "execution_count": 8,
     "metadata": {},
     "output_type": "execute_result"
    }
   ],
   "source": [
    "histtransdf.shape"
   ]
  },
  {
   "cell_type": "code",
   "execution_count": 9,
   "metadata": {
    "_kg_hide-input": true,
    "_kg_hide-output": true,
    "collapsed": true
   },
   "outputs": [
    {
     "data": {
      "text/plain": [
       "290001"
      ]
     },
     "execution_count": 9,
     "metadata": {},
     "output_type": "execute_result"
    }
   ],
   "source": [
    "newtransdf.card_id.nunique()"
   ]
  },
  {
   "cell_type": "code",
   "execution_count": 10,
   "metadata": {
    "_kg_hide-input": true,
    "_kg_hide-output": true,
    "collapsed": true
   },
   "outputs": [
    {
     "data": {
      "text/plain": [
       "334633"
      ]
     },
     "execution_count": 10,
     "metadata": {},
     "output_type": "execute_result"
    }
   ],
   "source": [
    "merchdf['merchant_id'].nunique()"
   ]
  },
  {
   "cell_type": "markdown",
   "metadata": {},
   "source": [
    "There are 201,917 card ids in the training data set.\n",
    "\n",
    "There are 123,623 card ids in the test data. This data cannot be used to train the model as it does not have loyalty scores (the response variable)\n",
    "\n",
    "Hisotrical transaction data has 325,540 card ids with 29,112,361 transactions. Train and test card ids are both included in this historical data.\n",
    "\n",
    "New merchant transactional data set had 290,001 card ids.\n",
    "\n",
    "There were 334,633 different merchants in the merchant data."
   ]
  },
  {
   "cell_type": "code",
   "execution_count": 11,
   "metadata": {
    "_kg_hide-input": true
   },
   "outputs": [
    {
     "data": {
      "image/png": "[encoded data removed]",
      "text/plain": [
       "<Figure size 432x288 with 1 Axes>"
      ]
     },
     "metadata": {
      "needs_background": "light"
     },
     "output_type": "display_data"
    }
   ],
   "source": [
    "# plotting loyalty score distribution\n",
    "traindf['target'].hist()\n",
    "plt.xlabel('Loyalty Score')\n",
    "plt.ylabel('Count')\n",
    "plt.title('Loyalty Score Distribution');"
   ]
  },
  {
   "cell_type": "markdown",
   "metadata": {},
   "source": [
    "Loyalty scores are normally distriubted ranging from -10 to 10. There are some outliers at -33."
   ]
  },
  {
   "cell_type": "markdown",
   "metadata": {},
   "source": [
    "## Feature Engineering<a class='anchor' id='feature-engineering'></a>"
   ]
  },
  {
   "cell_type": "markdown",
   "metadata": {},
   "source": [
    "#### Features to Engineer <br>\n",
    "*features are engineered to cardholder level* <br><br>\n",
    "`tof` - (Time on File) Number of days between first and last purchase date of cardholder.<br><br>\n",
    "`recency` - (Recency) Number of days between last date of all transactions and last date of purchase by a cardholder.<br><br>\n",
    "`frequency` - (Frequency) Total number of transactions by a cardholder.<br><br>\n",
    "`log_freq` - (Log(Frequency)) Log transformation of frequency may reduce outliers and linearize exponential trait of frequency distribution.<br><br>\n",
    "`amt` - (Amount) Sum of all purchase amounts.<br><br>\n",
    "`avg_amt` - (Average Amount) Average amount of all purchases.<br><br>\n",
    "`charge_per_day` - (Charge per Day) Average number of transactions per day for cardholders time on file.<br><br>\n",
    "`log_charge_per_day` - (Log(Charge per Day)) Log transform of charge per day. Linearizes exponential trait of charge_per_day.<br><br>\n",
    "`max_amt` - (Max Purchase Amt) Highest purchase amount of a cardholder.<br><br>\n",
    "`n_declines` - (Number of Declines) Number of times card was declined for a puchase. Authorized flag was 'N'.<br><br>\n",
    "`log_n_declines` - (Log(Number of Declines)) Log transform of number of declines. Linearizes exponential trait of number of declines.<br><br>\n",
    "`prop_new` - (Proportion New) Proportion of new merchant purchases in all purchases.<br><br>\n",
    "`merch_cat_1_Y` - (Count when Merchant Category 1 is Yes) Sum of all times Anonymized merchant category 1 is yes.<br><br>\n",
    "`merch_cat_2_x` - (Count when Merchant Category 2 is x) Sum of all times Anonymized merchant category 2 is x, where x can be values between 1-5."
   ]
  },
  {
   "cell_type": "code",
   "execution_count": 30,
   "metadata": {},
   "outputs": [],
   "source": [
    "# concatenating all transaction data and adding indicator of new merchant\n",
    "histtransdf['new'] = False\n",
    "newtransdf['new'] = True\n",
    "alltransdf = pd.concat([histtransdf, newtransdf])"
   ]
  },
  {
   "cell_type": "code",
   "execution_count": 31,
   "metadata": {},
   "outputs": [],
   "source": [
    "alltransdf['purchase_date'] = pd.to_datetime(alltransdf['purchase_date'])\n",
    "alltransdf['authorized_flag'] = alltransdf.authorized_flag.apply(lambda x: True if x=='Y' else False)\n",
    "alltransdf['city_id'] = alltransdf.city_id.apply(str)\n"
   ]
  },
  {
   "cell_type": "code",
   "execution_count": 34,
   "metadata": {},
   "outputs": [],
   "source": [
    "last_day = alltransdf.purchase_date.max() # last day recorded in all of transactions\n",
    "groups = alltransdf.groupby('card_id')\n",
    "\n",
    "def safe_log(x):\n",
    "    # log function to prevent getting log of zero\n",
    "    if x <= 0:\n",
    "        return 0\n",
    "    else:\n",
    "        return np.log(x)\n",
    "    \n",
    "# aggregating transactional data and features at card_id/cardholder level\n",
    "cardholdersdf = pd.DataFrame()\n",
    "cardholdersdf['tof'] = (last_day - groups.purchase_date.min()).apply(lambda x: x.days)\n",
    "cardholdersdf['recency'] = (last_day - groups.purchase_date.max()).apply(lambda x: x.days)\n",
    "cardholdersdf['frequency'] = groups.size()\n",
    "cardholdersdf['log_freq'] = cardholdersdf.frequency.apply(np.log)\n",
    "cardholdersdf['amt'] = groups.purchase_amount.sum()\n",
    "cardholdersdf['avg_amt'] = cardholdersdf['amt'] / cardholdersdf['frequency']\n",
    "cardholdersdf['charge_per_day'] = cardholdersdf['frequency'] / (cardholdersdf['tof'] + 1)\n",
    "cardholdersdf['log_charge_per_day'] = cardholdersdf['charge_per_day'].apply(np.log)\n",
    "cardholdersdf['max_amt'] = groups.purchase_amount.max()\n",
    "cardholdersdf['n_declines'] = groups.size() - groups.authorized_flag.sum()\n",
    "cardholdersdf['log_n_declines'] = cardholdersdf['n_declines'].apply(safe_log)\n",
    "cardholdersdf['prop_new'] = groups.new.sum() / groups.size()\n",
    "cardholdersdf['merch_cat_1_Y'] = groups.apply(lambda x: (x['category_1']=='Y').sum())\n",
    "cardholdersdf['merch_cat_2_1'] = groups.apply(lambda x: (x['category_2']==1).sum())\n",
    "cardholdersdf['merch_cat_2_2'] = groups.apply(lambda x: (x['category_2']==2).sum())\n",
    "cardholdersdf['merch_cat_2_3'] = groups.apply(lambda x: (x['category_2']==3).sum())\n",
    "cardholdersdf['merch_cat_2_4'] = groups.apply(lambda x: (x['category_2']==4).sum())\n",
    "cardholdersdf['merch_cat_2_5'] = groups.apply(lambda x: (x['category_2']==5).sum())"
   ]
  },
  {
   "cell_type": "code",
   "execution_count": 40,
   "metadata": {},
   "outputs": [],
   "source": [
    "new_train = traindf.join(cardholdersdf, how='left', on='card_id')\n",
    "new_test = giventestdf.join(cardholdersdf, how='left', on='card_id')"
   ]
  },
  {
   "cell_type": "code",
   "execution_count": 47,
   "metadata": {},
   "outputs": [],
   "source": [
    "X_new_train = new_train.drop(columns=['target'])\n",
    "y_new_train = new_train['target']\n"
   ]
  },
  {
   "cell_type": "markdown",
   "metadata": {},
   "source": [
    "## Model Building<a class='anchor' id='model-building'></a>"
   ]
  },
  {
   "cell_type": "markdown",
   "metadata": {},
   "source": [
    "### Linear Regression <a class='anchor' id='linear-regression'></a>"
   ]
  },
  {
   "cell_type": "markdown",
   "metadata": {},
   "source": [
    "### Gradient Boosted Trees <a class=\"anchor\" id='gradient-boosted-trees'></a>"
   ]
  },
  {
   "cell_type": "markdown",
   "metadata": {},
   "source": [
    "## Conclusion <a class='anchor' id='conclusion'></a>"
   ]
  },
  {
   "cell_type": "code",
   "execution_count": null,
   "metadata": {},
   "outputs": [],
   "source": []
  }
 ],
 "metadata": {
  "celltoolbar": "Tags",
  "kernelspec": {
   "display_name": "Python 3",
   "language": "python",
   "name": "python3"
  },
  "language_info": {
   "codemirror_mode": {
    "name": "ipython",
    "version": 3
   },
   "file_extension": ".py",
   "mimetype": "text/x-python",
   "name": "python",
   "nbconvert_exporter": "python",
   "pygments_lexer": "ipython3",
   "version": "3.7.0"
  }
 },
 "nbformat": 4,
 "nbformat_minor": 4
}
